{
 "metadata": {
  "language_info": {
   "codemirror_mode": {
    "name": "ipython",
    "version": 3
   },
   "file_extension": ".py",
   "mimetype": "text/x-python",
   "name": "python",
   "nbconvert_exporter": "python",
   "pygments_lexer": "ipython3",
   "version": "3.8.5-final"
  },
  "orig_nbformat": 2,
  "kernelspec": {
   "name": "Python 3.8.5 64-bit ('Sonya.ai': conda)",
   "display_name": "Python 3.8.5 64-bit ('Sonya.ai': conda)",
   "metadata": {
    "interpreter": {
     "hash": "886eed32a51e62ce102904e8f9a10d2b0436e03dd17f1d54005ff0989d11a7c8"
    }
   }
  }
 },
 "nbformat": 4,
 "nbformat_minor": 2,
 "cells": [
  {
   "source": [
    "# Keras \n",
    "### An API specification that's used for defining and training machine learning models\n"
   ],
   "cell_type": "markdown",
   "metadata": {}
  },
  {
   "source": [
    "### Keras.Sequential  API - CNN example \n",
    "\n",
    "1.  tf.Keras.Sequential builds a tf.keras.Model object by stacking Keras layers\n",
    "2.  model.compile - creates a training loop \n",
    "3.  model.fit - executes the training loop \n",
    "\n"
   ],
   "cell_type": "markdown",
   "metadata": {}
  },
  {
   "cell_type": "code",
   "execution_count": 4,
   "metadata": {},
   "outputs": [],
   "source": [
    "import tensorflow as tf\n",
    "from tensorflow.keras.datasets import fashion_mnist\n",
    "from tensorflow.keras import layers\n"
   ]
  },
  {
   "cell_type": "code",
   "execution_count": null,
   "metadata": {},
   "outputs": [],
   "source": [
    "number_of_classes = 10\n",
    "\n",
    "model = tf.keras.Sequential(name=\"KnightScopeMnistNet\")\n",
    "model.add(layers.Conv2D(32, (5,5), activation=tf.nn.relu, input_shape=(28,28,1)))\n",
    "model.add(layers.MaxPool2D((2,2), (2,2)))\n",
    "model.add(layers.Conv2D(64, (3,3), activation=tf.nn.relu))\n",
    "model.add(layers.MaxPool2D((2,2), (2,2)))\n",
    "model.add(layers.Flatten())\n",
    "model.add(layers.Dense(1024, activation=tf.nn.relu))\n",
    "tf.keras.layers.Dropout(0.5),\n",
    "tf.keras.layers.Dense(number_of_classes)\n",
    "model.summary()\n",
    "\n",
    "(train, train_labels), (test, test_labels) = fashion_mnist.load_data()\n",
    "\n",
    "# Scale input in [-1, 1] range\n",
    "# preprocess using eager execution.\n",
    "train = train / 255. * 2 - 1\n",
    "test = test / 255. * 2 - 1\n",
    "train = tf.expand_dims(train, -1).numpy()\n",
    "test = tf.expand_dims(train, -1).numpy()\n",
    "\n",
    "optimizer = tf.keras.optimizers.Adam(1e-5)\n",
    "loss = 'sparse_categorical_crossentropy'\n",
    "metric = 'accuracy'\n",
    "\n",
    "\n",
    "# create a training loop \n",
    "model.compile(optimizer=optimizer, loss=loss, metrics=[metric])\n",
    "\n",
    "# execute the training loop \n",
    "model.fit(train, train_labels, epochs=10)\n",
    "model.evaluate(test, test_labels)"
   ]
  },
  {
   "source": [
    "# Keras Functional API \n",
    "\n"
   ],
   "cell_type": "markdown",
   "metadata": {}
  },
  {
   "source": [
    "1. The functional API allows you to build complex models\n",
    "2. Multi-input, multi-output models, easily sharing layers\n",
    "3. Residual connections \n",
    "4. In general define a model with arbitrary and complex topologies \n",
    "5. "
   ],
   "cell_type": "markdown",
   "metadata": {}
  },
  {
   "source": [
    "input_shape = (100, )\n",
    "\n",
    "inputs = tf.keras.Input(input_shape)\n",
    "net = tf.keras.layers.Dense(units=64, activation=tf.nn.relu, name='FC1')(inputs)\n",
    "net = tf.keras.layers.Dense(units=64, activation=tf.nn.relu, name='FC2')(net)\n",
    "\n",
    "net = tf.keras.layers.Dense(units=1, name='G')(net)\n",
    "model= tf.keras.Model(inputs=inputs, outputs=net)\n",
    "\n",
    "model.summary()"
   ],
   "cell_type": "code",
   "metadata": {},
   "execution_count": 23,
   "outputs": [
    {
     "output_type": "stream",
     "name": "stdout",
     "text": [
      "Model: \"functional_1\"\n_________________________________________________________________\nLayer (type)                 Output Shape              Param #   \n=================================================================\ninput_1 (InputLayer)         [(None, 100)]             0         \n_________________________________________________________________\nFC1 (Dense)                  (None, 64)                6464      \n_________________________________________________________________\nFC2 (Dense)                  (None, 64)                4160      \n_________________________________________________________________\nG (Dense)                    (None, 1)                 65        \n=================================================================\nTotal params: 10,689\nTrainable params: 10,689\nNon-trainable params: 0\n_________________________________________________________________\n"
     ]
    }
   ]
  },
  {
   "source": [
    "# The subclassing method\n",
    "\n",
    "1. The Sequential and Functional APIs cover almost any possible scenario. \n",
    "2. Subclassing can be more flexible, but error-prone and harder to debug.\n",
    "3. recommended since it separates the layer definition from its usage, making it easy to make mistakes while refactoring the code.\n",
    "\n"
   ],
   "cell_type": "markdown",
   "metadata": {}
  },
  {
   "cell_type": "code",
   "execution_count": 24,
   "metadata": {},
   "outputs": [],
   "source": [
    "class Generator(tf.keras.Model):\n",
    "    def __init__(self):\n",
    "        super(Generator, self).__init__()\n",
    "        self.dense_1 = tf.keras.layers.Dense(\n",
    "        units=64, activation=tf.nn.elu, name=\"fc1\")\n",
    "        self.dense_2 = f.keras.layers.Dense(\n",
    "        units=64, activation=tf.nn.elu, name=\"fc2\")\n",
    "        self.output = f.keras.layers.Dense(units=1, name=\"G\")\n",
    "\n",
    "    def call(self, inputs):\n",
    "        # Build the model in functional style here\n",
    "        # and return the output tensor\n",
    "        net = self.dense_1(inputs)\n",
    "        net = self.dense_2(net)\n",
    "        net = self.output(net)\n",
    "\n",
    "        return net        "
   ]
  },
  {
   "cell_type": "code",
   "execution_count": null,
   "metadata": {},
   "outputs": [],
   "source": []
  }
 ]
}