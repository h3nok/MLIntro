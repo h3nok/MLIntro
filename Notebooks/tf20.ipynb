{
 "metadata": {
  "language_info": {
   "codemirror_mode": {
    "name": "ipython",
    "version": 3
   },
   "file_extension": ".py",
   "mimetype": "text/x-python",
   "name": "python",
   "nbconvert_exporter": "python",
   "pygments_lexer": "ipython3",
   "version": "3.8.5-final"
  },
  "orig_nbformat": 2,
  "kernelspec": {
   "name": "Python 3.8.5 64-bit ('Sonya.ai': conda)",
   "display_name": "Python 3.8.5 64-bit ('Sonya.ai': conda)",
   "metadata": {
    "interpreter": {
     "hash": "886eed32a51e62ce102904e8f9a10d2b0436e03dd17f1d54005ff0989d11a7c8"
    }
   }
  }
 },
 "nbformat": 4,
 "nbformat_minor": 2,
 "cells": [
  {
   "source": [
    "# Fundamentals of Tensorflow (2.0)"
   ],
   "cell_type": "markdown",
   "metadata": {}
  },
  {
   "source": [
    "import tensorflow as tf\n",
    "print(tf.__version__)\n"
   ],
   "cell_type": "code",
   "metadata": {
    "tags": []
   },
   "execution_count": 2,
   "outputs": [
    {
     "output_type": "stream",
     "name": "stdout",
     "text": [
      "2.3.1\n"
     ]
    }
   ]
  },
  {
   "source": [
    " ## tf.Graph - the main structure. \n",
    "    A collection of nodes as operations and edges as data consumed or produced by a node \n",
    "    Every graph definition has tf.Operation (as nodes) that can have multiple inputs and \n",
    "    outputs tf.Tensor (edges)"
   ],
   "cell_type": "markdown",
   "metadata": {}
  },
  {
   "cell_type": "code",
   "execution_count": 3,
   "metadata": {},
   "outputs": [
    {
     "output_type": "stream",
     "name": "stdout",
     "text": [
      "tf.Tensor(\n[[ 1. 10.]\n [ 1. 31.]], shape=(2, 2), dtype=float32)\n"
     ]
    }
   ],
   "source": [
    "A = tf.constant([[1,2],[3,4]], dtype=tf.float32)\n",
    "x = tf.constant([[0,10], [0,0.5]])\n",
    "b = tf.constant([[1, -1]], dtype=tf.float32)\n",
    "# y = tf.add(tf.matmul(A, x), b, name='output') # Y = Ax + b \n",
    "y = A@x + b # overloaded operator @ for matrix multiplication \n",
    "\n",
    "print(y)\n"
   ]
  },
  {
   "source": [],
   "cell_type": "markdown",
   "metadata": {}
  }
 ]
}