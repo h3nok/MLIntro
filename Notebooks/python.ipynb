{
 "metadata": {
  "language_info": {
   "codemirror_mode": {
    "name": "ipython",
    "version": 3
   },
   "file_extension": ".py",
   "mimetype": "text/x-python",
   "name": "python",
   "nbconvert_exporter": "python",
   "pygments_lexer": "ipython3",
   "version": "3.8.5-final"
  },
  "orig_nbformat": 2,
  "kernelspec": {
   "name": "Python 3.8.5 64-bit ('AIA': conda)",
   "display_name": "Python 3.8.5 64-bit ('AIA': conda)",
   "metadata": {
    "interpreter": {
     "hash": "ec104c16cc94a0c2181fc31bba7ccfb9c6414aa021488e7a4ecf4badda2ee7a3"
    }
   }
  }
 },
 "nbformat": 4,
 "nbformat_minor": 2,
 "cells": [
  {
   "source": [
    "# Python \n",
    "## Lambda functions for data processing "
   ],
   "cell_type": "markdown",
   "metadata": {}
  },
  {
   "cell_type": "code",
   "execution_count": 4,
   "metadata": {},
   "outputs": [
    {
     "output_type": "stream",
     "name": "stdout",
     "text": [
      "48312000\n"
     ]
    }
   ],
   "source": [
    "# data aggregation \n",
    "\n",
    "from functools import reduce\n",
    "\n",
    "def doSum(x1,x2):\n",
    "    return x1*x2\n",
    "\n",
    "x = reduce(doSum, [100, 122, 33, 4, 5, 6])\n"
   ]
  },
  {
   "cell_type": "code",
   "execution_count": 5,
   "metadata": {},
   "outputs": [
    {
     "output_type": "execute_result",
     "data": {
      "text/plain": [
       "[121, 484, 1089, 1936, 3025]"
      ]
     },
     "metadata": {},
     "execution_count": 5
    }
   ],
   "source": [
    "# data transformation \n",
    "\n",
    "list(map(lambda x: x ** 2, [11, 22, 33, 44,55]))"
   ]
  },
  {
   "cell_type": "code",
   "execution_count": 6,
   "metadata": {},
   "outputs": [
    {
     "output_type": "execute_result",
     "data": {
      "text/plain": [
       "[200, 300, 1000]"
      ]
     },
     "metadata": {},
     "execution_count": 6
    }
   ],
   "source": [
    "# Filtering data \n",
    "list(filter(lambda x: x > 100, [-5, 200, 300, -10, 10, 1000]))"
   ]
  },
  {
   "cell_type": "code",
   "execution_count": null,
   "metadata": {},
   "outputs": [],
   "source": []
  }
 ]
}